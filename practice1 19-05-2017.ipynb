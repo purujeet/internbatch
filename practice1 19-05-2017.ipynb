{
 "cells": [
  {
   "cell_type": "markdown",
   "metadata": {},
   "source": [
    "Practice"
   ]
  },
  {
   "cell_type": "code",
   "execution_count": 6,
   "metadata": {},
   "outputs": [
    {
     "name": "stdout",
     "output_type": "stream",
     "text": [
      "Press 'Y' to enter details pf new studenth\n",
      "Enter student name:purujeet\n",
      "Enter student address:jaipur\n",
      "Enter student class:iii\n",
      "Enter student phone_num:1234556\n",
      "Press 'Y' to enter details pf new student\n",
      "id=2\n",
      "name=Purujeet\n",
      "address=Jaipur\n",
      "class=Iii\n",
      "phone=1234556\n"
     ]
    }
   ],
   "source": [
    "id=1\n",
    "info={}\n",
    "while(input(\"Press 'Y' to enter details pf new student\")):\n",
    "    id=id+1\n",
    "    id_ls=[]\n",
    "    name_ls=[]\n",
    "    addr_ls=[]\n",
    "    class_ls=[]\n",
    "    phone_ls=[]\n",
    "    name=input(\"Enter student name:\").strip().lower().title()\n",
    "    address=input(\"Enter student address:\").strip().lower().title()\n",
    "    classs=input(\"Enter student class:\").strip().lower()\n",
    "    phone=int(input(\"Enter student phone_num:\").strip().lower())\n",
    "\n",
    "    id_ls.append(id)\n",
    "    name_ls.append(name)\n",
    "    addr_ls.append(name)\n",
    "    class_ls.append(name)\n",
    "    phone_ls.append(name)\n",
    "    \n",
    "    info={'id':id,'name':name,'address':address,'class':classs,'phone':phone}\n",
    "\n",
    "for key,value in info.items():\n",
    "    print(\"{}={}\".format(key,value))\n",
    "    \n",
    "    \n",
    "    \n",
    "    \n"
   ]
  },
  {
   "cell_type": "code",
   "execution_count": null,
   "metadata": {
    "collapsed": true
   },
   "outputs": [],
   "source": [
    "n=int(input(\"Enter a number:\"))\n",
    "p=n\n",
    "for i in range(1,n+1):\n",
    "    for j in range(p,0,-1):\n",
    "        print(' ',end=\"\")\n",
    "    for k in range(0,i):\n",
    "        print('*',end='')\n",
    "    print('')\n",
    "    p=n-i"
   ]
  },
  {
   "cell_type": "code",
   "execution_count": null,
   "metadata": {
    "collapsed": true
   },
   "outputs": [],
   "source": []
  }
 ],
 "metadata": {
  "kernelspec": {
   "display_name": "Python 3",
   "language": "python",
   "name": "python3"
  },
  "language_info": {
   "codemirror_mode": {
    "name": "ipython",
    "version": 3
   },
   "file_extension": ".py",
   "mimetype": "text/x-python",
   "name": "python",
   "nbconvert_exporter": "python",
   "pygments_lexer": "ipython3",
   "version": "3.6.3"
  }
 },
 "nbformat": 4,
 "nbformat_minor": 2
}
